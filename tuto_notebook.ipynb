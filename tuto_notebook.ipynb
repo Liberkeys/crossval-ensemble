{
 "cells": [
  {
   "cell_type": "code",
   "execution_count": null,
   "id": "f0853dad-fff9-4f2a-9a52-b80b0ea5d1fa",
   "metadata": {
    "execution": {
     "iopub.execute_input": "2023-07-06T15:41:20.977695Z",
     "iopub.status.busy": "2023-07-06T15:41:20.977299Z",
     "iopub.status.idle": "2023-07-06T15:41:21.962175Z",
     "shell.execute_reply": "2023-07-06T15:41:21.961542Z",
     "shell.execute_reply.started": "2023-07-06T15:41:20.977663Z"
    },
    "tags": []
   },
   "outputs": [],
   "source": [
    "%load_ext autoreload\n",
    "%autoreload 2\n",
    "\n",
    "import os\n",
    "import zipfile\n",
    "import numpy as np\n",
    "import pandas as pd\n",
    "from catboost import CatBoostRegressor\n",
    "\n",
    "# DataFrame Mapper imports\n",
    "from sklearn_pandas import gen_features\n",
    "from sklearn_pandas import DataFrameMapper\n",
    "\n",
    "# Transformers imports: imported for the sake of the exemple\n",
    "from sklearn.preprocessing import FunctionTransformer, StandardScaler, OrdinalEncoder\n",
    "from sklearn.impute import SimpleImputer\n",
    "from sklearn.metrics import mean_squared_error\n",
    "from sklearn.model_selection import train_test_split\n",
    "\n",
    "from crossval_ensemble.custom_pipeline import CustomTransformedTargetRegressor\n",
    "from crossval_ensemble.crossval_pipeline import CrossvalClassificationPipeline, CrossvalRegressionPipeline\n",
    "\n",
    "pd.set_option('display.max_columns', None)"
   ]
  },
  {
   "cell_type": "markdown",
   "id": "d8499b97-720f-4e90-bd74-ccf62c68219c",
   "metadata": {},
   "source": [
    "# Load data"
   ]
  },
  {
   "cell_type": "markdown",
   "id": "776bd2a0-e83a-4eeb-8c44-a6869f70631b",
   "metadata": {
    "execution": {
     "iopub.execute_input": "2023-06-30T08:31:14.768356Z",
     "iopub.status.busy": "2023-06-30T08:31:14.767462Z",
     "iopub.status.idle": "2023-06-30T08:31:15.059252Z",
     "shell.execute_reply": "2023-06-30T08:31:15.054708Z",
     "shell.execute_reply.started": "2023-06-30T08:31:14.768280Z"
    },
    "tags": []
   },
   "source": [
    "Run the following commands into terminal : (cf https://github.com/Kaggle/kaggle-api)\n",
    "```\n",
    "export KAGGLE_USERNAME=datadinosaur\n",
    "export KAGGLE_KEY=xxxxxxxxxxxxxx\n",
    "\n",
    "kaggle competitions download -c house-prices-advanced-regression-techniques\n",
    "```"
   ]
  },
  {
   "cell_type": "code",
   "execution_count": null,
   "id": "92ff2424-351a-459b-9be5-c111f18fbcd8",
   "metadata": {
    "execution": {
     "iopub.execute_input": "2023-07-06T15:41:21.963686Z",
     "iopub.status.busy": "2023-07-06T15:41:21.963352Z",
     "iopub.status.idle": "2023-07-06T15:41:21.987941Z",
     "shell.execute_reply": "2023-07-06T15:41:21.987371Z",
     "shell.execute_reply.started": "2023-07-06T15:41:21.963665Z"
    },
    "tags": []
   },
   "outputs": [],
   "source": [
    "with zipfile.ZipFile('./house-prices-advanced-regression-techniques.zip', 'r') as zip_ref:\n",
    "    os.makedirs('./data/', exist_ok=True)\n",
    "    zip_ref.extractall('./data/')"
   ]
  },
  {
   "cell_type": "code",
   "execution_count": null,
   "id": "1aa29dd2-a4fc-4f48-8725-e6ae4d12f10f",
   "metadata": {
    "execution": {
     "iopub.execute_input": "2023-07-06T15:44:30.859078Z",
     "iopub.status.busy": "2023-07-06T15:44:30.856799Z",
     "iopub.status.idle": "2023-07-06T15:44:30.991998Z",
     "shell.execute_reply": "2023-07-06T15:44:30.991194Z",
     "shell.execute_reply.started": "2023-07-06T15:44:30.858947Z"
    },
    "tags": []
   },
   "outputs": [],
   "source": [
    "train = pd.read_csv('./data/train.csv')\n",
    "test = pd.read_csv('./data/test.csv')\n",
    "sample_sub = pd.read_csv('./data/sample_submission.csv')"
   ]
  },
  {
   "cell_type": "code",
   "execution_count": null,
   "id": "f8ffa7ec-0a5a-4e0d-9c95-feb05923d15d",
   "metadata": {
    "execution": {
     "iopub.execute_input": "2023-07-06T15:44:31.264123Z",
     "iopub.status.busy": "2023-07-06T15:44:31.263251Z",
     "iopub.status.idle": "2023-07-06T15:44:31.331751Z",
     "shell.execute_reply": "2023-07-06T15:44:31.331124Z",
     "shell.execute_reply.started": "2023-07-06T15:44:31.264065Z"
    },
    "tags": []
   },
   "outputs": [],
   "source": [
    "train.head()"
   ]
  },
  {
   "cell_type": "markdown",
   "id": "81127a0c-d00f-4042-8cf5-260801fdea38",
   "metadata": {
    "tags": []
   },
   "source": [
    "# Define preprocessing"
   ]
  },
  {
   "cell_type": "code",
   "execution_count": null,
   "id": "6f4a1ceb-6f83-4736-9bd5-0e5c5c294f93",
   "metadata": {
    "execution": {
     "iopub.execute_input": "2023-07-06T15:52:38.337861Z",
     "iopub.status.busy": "2023-07-06T15:52:38.336955Z",
     "iopub.status.idle": "2023-07-06T15:52:38.385515Z",
     "shell.execute_reply": "2023-07-06T15:52:38.384742Z",
     "shell.execute_reply.started": "2023-07-06T15:52:38.337786Z"
    },
    "tags": []
   },
   "outputs": [],
   "source": [
    "# Combine train and test data for consistence\n",
    "combined_data = pd.concat([train, test]).drop(columns=['Id', 'SalePrice'])\n",
    "CONT_COLS = combined_data.select_dtypes(include='number').columns.tolist()\n",
    "CAT_COLS = combined_data.select_dtypes(include='object').columns.tolist()\n",
    "cols = CAT_COLS + CONT_COLS"
   ]
  },
  {
   "cell_type": "code",
   "execution_count": null,
   "id": "3dac2d30-0a4b-4846-89d8-d3c00e2a4001",
   "metadata": {
    "execution": {
     "iopub.execute_input": "2023-07-06T15:52:38.479708Z",
     "iopub.status.busy": "2023-07-06T15:52:38.477314Z",
     "iopub.status.idle": "2023-07-06T15:52:38.512022Z",
     "shell.execute_reply": "2023-07-06T15:52:38.510930Z",
     "shell.execute_reply.started": "2023-07-06T15:52:38.479599Z"
    },
    "tags": []
   },
   "outputs": [],
   "source": [
    "CONT_COLS_list = [[col] for col in CONT_COLS]\n",
    "CAT_COLS_list = [[col] for col in CAT_COLS]\n",
    "\n",
    "gen_numeric = gen_features(\n",
    "    columns=CONT_COLS_list,\n",
    "    classes=[\n",
    "        {\n",
    "            \"class\": SimpleImputer,\n",
    "            \"strategy\": \"constant\",\n",
    "            \"fill_value\": 0.0\n",
    "        },\n",
    "        {\n",
    "            \"class\": StandardScaler\n",
    "        }\n",
    "    ]\n",
    ")\n",
    "\n",
    "gen_categories = gen_features(\n",
    "    columns=CAT_COLS_list,\n",
    "    classes=[\n",
    "        {\n",
    "            \"class\": SimpleImputer,\n",
    "            \"strategy\": \"constant\",\n",
    "            \"fill_value\": \"-10\"\n",
    "        },\n",
    "        {\n",
    "            \"class\":OrdinalEncoder,\n",
    "            \"handle_unknown\": 'use_encoded_value',\n",
    "            \"unknown_value\": -10,\n",
    "            \"encoded_missing_value\": -10,\n",
    "            \"dtype\": int\n",
    "        }\n",
    "    ]\n",
    ")\n",
    "\n",
    "# DataFrameMapper construction\n",
    "preprocess_mapper = DataFrameMapper(\n",
    "    [\n",
    "        *gen_numeric,\n",
    "        *gen_categories,\n",
    "    ],\n",
    "    input_df=True,\n",
    "    df_out=True\n",
    ")"
   ]
  },
  {
   "cell_type": "markdown",
   "id": "ee389f49-6b4d-47e4-825c-60ed5d62903f",
   "metadata": {},
   "source": [
    "# Train model"
   ]
  },
  {
   "cell_type": "code",
   "execution_count": null,
   "id": "2b4c8305-de5e-495b-ac6b-7b4be9d3c4d3",
   "metadata": {
    "execution": {
     "iopub.execute_input": "2023-07-06T16:32:40.126642Z",
     "iopub.status.busy": "2023-07-06T16:32:40.126278Z",
     "iopub.status.idle": "2023-07-06T16:32:40.146868Z",
     "shell.execute_reply": "2023-07-06T16:32:40.146254Z",
     "shell.execute_reply.started": "2023-07-06T16:32:40.126613Z"
    },
    "tags": []
   },
   "outputs": [],
   "source": [
    "X_train = train[cols]\n",
    "y_train = train['SalePrice']\n",
    "\n",
    "X_test = test[cols]\n",
    "y_test = sample_sub['SalePrice']"
   ]
  },
  {
   "cell_type": "code",
   "execution_count": null,
   "id": "ad68db77-fe0e-4527-8ba5-7ad81cf38eae",
   "metadata": {
    "execution": {
     "iopub.execute_input": "2023-07-06T16:33:09.292351Z",
     "iopub.status.busy": "2023-07-06T16:33:09.291447Z",
     "iopub.status.idle": "2023-07-06T16:34:19.888240Z",
     "shell.execute_reply": "2023-07-06T16:34:19.887586Z",
     "shell.execute_reply.started": "2023-07-06T16:33:09.292278Z"
    },
    "tags": []
   },
   "outputs": [],
   "source": [
    "model = CrossvalRegressionPipeline(steps=[\n",
    "    ('prepro', preprocess_mapper),\n",
    "    ('estimator', CustomTransformedTargetRegressor(\n",
    "        regressor=CatBoostRegressor(\n",
    "            iterations=100,\n",
    "            loss_function='RMSE',\n",
    "            eval_metric='RMSE',\n",
    "            use_best_model=True,\n",
    "            verbose=False,\n",
    "            random_seed=0\n",
    "        ),\n",
    "        transformer=None,  # FunctionTransformer(func=np.log, inverse_func=np.exp)\n",
    "    ))\n",
    "], n_folds=5)\n",
    "\n",
    "model.fit(X_train, y_train, cat_features=CAT_COLS, early_stopping_rounds=100, plot=False)\n",
    "preds = model.predict(X_test)"
   ]
  },
  {
   "cell_type": "code",
   "execution_count": null,
   "id": "9a7d07b8-abec-44ca-a2e1-8467b27194e5",
   "metadata": {
    "execution": {
     "iopub.execute_input": "2023-07-06T16:34:31.773817Z",
     "iopub.status.busy": "2023-07-06T16:34:31.772931Z",
     "iopub.status.idle": "2023-07-06T16:34:32.496454Z",
     "shell.execute_reply": "2023-07-06T16:34:32.495801Z",
     "shell.execute_reply.started": "2023-07-06T16:34:31.773744Z"
    },
    "tags": []
   },
   "outputs": [],
   "source": [
    "y_oof_pred = np.arange(len(y_train))\n",
    "\n",
    "for fold, fold_dict in model.crossval_dict.items():\n",
    "    valid_idx = fold_dict['valid_idx']\n",
    "    y_oof_pred[valid_idx] = fold_dict['pipeline'].predict(X_train.iloc[valid_idx])"
   ]
  },
  {
   "cell_type": "code",
   "execution_count": null,
   "id": "4e4420d2-2120-4a98-8338-2d63029eb38c",
   "metadata": {
    "execution": {
     "iopub.execute_input": "2023-07-06T16:33:06.658563Z",
     "iopub.status.busy": "2023-07-06T16:33:06.657879Z",
     "iopub.status.idle": "2023-07-06T16:33:06.685072Z",
     "shell.execute_reply": "2023-07-06T16:33:06.684085Z",
     "shell.execute_reply.started": "2023-07-06T16:33:06.658522Z"
    },
    "tags": []
   },
   "outputs": [],
   "source": [
    "np.sqrt(mean_squared_error(np.log(y_train), np.log(y_oof_pred)))"
   ]
  },
  {
   "cell_type": "markdown",
   "id": "6638ec48-75df-435a-91dc-d4920f696b34",
   "metadata": {
    "tags": []
   },
   "source": [
    "# Submit predictions"
   ]
  },
  {
   "cell_type": "code",
   "execution_count": null,
   "id": "afcfc373-25a8-42b4-bdc9-8920e9603ba2",
   "metadata": {
    "execution": {
     "iopub.execute_input": "2023-07-06T16:34:50.303204Z",
     "iopub.status.busy": "2023-07-06T16:34:50.300488Z",
     "iopub.status.idle": "2023-07-06T16:34:50.339807Z",
     "shell.execute_reply": "2023-07-06T16:34:50.338706Z",
     "shell.execute_reply.started": "2023-07-06T16:34:50.303114Z"
    },
    "tags": []
   },
   "outputs": [],
   "source": [
    "sample_sub['SalePrice'] = preds\n",
    "\n",
    "sample_sub.to_csv('./data/submission.csv', index=False)"
   ]
  },
  {
   "cell_type": "markdown",
   "id": "bcf559c7-8aef-4550-9344-693e819dc237",
   "metadata": {},
   "source": [
    "Run following command to submit prediction\n",
    "```\n",
    "kaggle competitions submit -c house-prices-advanced-regression-techniques -f submission.csv -m \"Message\"\n",
    "```"
   ]
  },
  {
   "cell_type": "markdown",
   "id": "860c264e-f062-405d-9878-7a24e7185ece",
   "metadata": {},
   "source": [
    "# Comparison simple Catboost"
   ]
  },
  {
   "cell_type": "code",
   "execution_count": null,
   "id": "07efcc29-7fd6-48d5-a3a1-73df3a43bfe4",
   "metadata": {
    "execution": {
     "iopub.execute_input": "2023-07-06T16:28:14.424301Z",
     "iopub.status.busy": "2023-07-06T16:28:14.421193Z",
     "iopub.status.idle": "2023-07-06T16:28:19.528199Z",
     "shell.execute_reply": "2023-07-06T16:28:19.525954Z",
     "shell.execute_reply.started": "2023-07-06T16:28:14.424175Z"
    },
    "tags": []
   },
   "outputs": [],
   "source": [
    "X_train_, X_valid_, y_train_, y_valid_ = train_test_split(X_train, y_train, test_size=0.2)\n",
    "\n",
    "X_train_ = preprocess_mapper.fit_transform(X_train_)\n",
    "X_valid_ = preprocess_mapper.transform(X_valid_)\n",
    "X_test_ = preprocess_mapper.transform(X_test)\n",
    "\n",
    "estimator = CatBoostRegressor(\n",
    "    iterations=2000,\n",
    "    loss_function='MAE',\n",
    "    eval_metric='MAPE',\n",
    "    use_best_model=True,\n",
    "    verbose=500,\n",
    "    random_seed=0\n",
    ")\n",
    "\n",
    "estimator.fit(X_train_, y_train_, eval_set=(X_valid_, y_valid_), cat_features=CAT_COLS, early_stopping_rounds=100)\n",
    "\n",
    "y_pred = estimator.predict(X_test_)"
   ]
  },
  {
   "cell_type": "code",
   "execution_count": null,
   "id": "923f7bb7-53b6-496f-b373-6778f321d3e9",
   "metadata": {
    "execution": {
     "iopub.execute_input": "2023-07-06T16:28:49.872887Z",
     "iopub.status.busy": "2023-07-06T16:28:49.872318Z",
     "iopub.status.idle": "2023-07-06T16:28:49.897533Z",
     "shell.execute_reply": "2023-07-06T16:28:49.896614Z",
     "shell.execute_reply.started": "2023-07-06T16:28:49.872863Z"
    },
    "tags": []
   },
   "outputs": [],
   "source": [
    "sample_sub['SalePrice'] = y_pred\n",
    "\n",
    "sample_sub.to_csv('./data/submission_catboost.csv', index=False)"
   ]
  },
  {
   "cell_type": "markdown",
   "id": "1a5865ec-a256-4f3a-b7ab-d3a1cd8390c5",
   "metadata": {},
   "source": [
    "Run following command to submit prediction\n",
    "```\n",
    "kaggle competitions submit -c house-prices-advanced-regression-techniques -f submission.csv -m \"Message\"\n",
    "```"
   ]
  }
 ],
 "metadata": {
  "kernelspec": {
   "display_name": "venv",
   "language": "python",
   "name": "python3"
  },
  "language_info": {
   "codemirror_mode": {
    "name": "ipython",
    "version": 3
   },
   "file_extension": ".py",
   "mimetype": "text/x-python",
   "name": "python",
   "nbconvert_exporter": "python",
   "pygments_lexer": "ipython3",
   "version": "3.10.12"
  },
  "widgets": {
   "application/vnd.jupyter.widget-state+json": {
    "state": {},
    "version_major": 2,
    "version_minor": 0
   }
  }
 },
 "nbformat": 4,
 "nbformat_minor": 5
}
